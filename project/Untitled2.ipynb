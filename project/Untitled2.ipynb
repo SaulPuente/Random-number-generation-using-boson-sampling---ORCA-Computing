{
 "cells": [
  {
   "cell_type": "code",
   "execution_count": 10,
   "id": "bb7cae50-48b6-4c1e-a2b2-566c9fe0ca68",
   "metadata": {},
   "outputs": [
    {
     "name": "stdout",
     "output_type": "stream",
     "text": [
      "<Result: shots=0, num_modes=0, contains state=True>\n",
      "0.02701656565980743\n",
      "0.2280016292105849\n",
      "[[ 0.2195-0.2565j  0.6111+0.5242j -0.1027+0.4745j -0.0273+0.0373j]\n",
      " [ 0.4513+0.6026j  0.457 +0.0123j  0.1316-0.4504j  0.0353-0.0532j]\n",
      " [ 0.0387+0.4927j -0.0192-0.3218j -0.2408+0.5244j -0.4584+0.3296j]\n",
      " [-0.1566+0.2246j  0.11  -0.1638j -0.4212+0.1836j  0.8188+0.068j ]]\n"
     ]
    }
   ],
   "source": [
    "import numpy as np\n",
    "\n",
    "# set the random seed\n",
    "np.random.seed(42)\n",
    "\n",
    "# import Strawberry Fields\n",
    "import strawberryfields as sf\n",
    "from strawberryfields.ops import *\n",
    "\n",
    "# initialize a 4 mode program\n",
    "boson_sampling = sf.Program(4)\n",
    "\n",
    "with boson_sampling.context as q:\n",
    "    # prepare the input fock states\n",
    "    Fock(1) | q[0]\n",
    "    Fock(1) | q[1]\n",
    "    Vac     | q[2]\n",
    "    Fock(1) | q[3]\n",
    "    Rgate(0.0644)  | q[0]\n",
    "    Rgate(0.5719) | q[1]\n",
    "    Rgate(2.0603)  | q[2]\n",
    "    Rgate(-1.9782)  | q[3]\n",
    "\n",
    "    BSgate(0.7804, 0.8578)  | (q[0], q[1])\n",
    "    BSgate(0.06406, 0.5165) | (q[2], q[3])\n",
    "    BSgate(0.7804, 0.8578)   | (q[1], q[2])\n",
    "    BSgate(0.06406, 0.5165)   | (q[0], q[1])\n",
    "    BSgate(0.473, 0.1176)  | (q[2], q[3])\n",
    "    BSgate(0.563, 0.1517)   | (q[1], q[2])\n",
    "    BSgate(0.1323, 0.9946)  | (q[0], q[1])\n",
    "    BSgate(0.311, 0.3231)  | (q[2], q[3])\n",
    "    \n",
    "    eng = sf.Engine(backend=\"fock\", backend_options={\"cutoff_dim\": 7})\n",
    "    results = eng.run(boson_sampling)\n",
    "    print(results)\n",
    "probs = results.state.all_fock_probs()\n",
    "print(probs[1, 1, 0, 1])\n",
    "print(probs[2, 0, 0, 1])\n",
    "import numpy as np\n",
    "from numpy.linalg import multi_dot\n",
    "from scipy.linalg import block_diag\n",
    "Uphase = np.diag([np.exp(0.5719*1j),np.exp(-1.9782*1j),np.exp(2.0603*1j),np.exp(0.0644*1j)])\n",
    "BSargs = [\n",
    "    (0.7804, 0.8578),\n",
    "    (0.06406, 0.5165),\n",
    "    (0.473, 0.1176),\n",
    "    (0.563, 0.1517),\n",
    "    (0.1323, 0.9946),\n",
    "    (0.311, 0.3231),\n",
    "    (0.4348, 0.0798),\n",
    "    (0.4368, 0.6157)\n",
    "    ]\n",
    "t_r_amplitudes = [(np.cos(q), np.exp(p*1j)*np.sin(q)) for q,p in BSargs]\n",
    "BSunitaries = [np.array([[t, -np.conj(r)], [r, t]]) for t,r in t_r_amplitudes]\n",
    "UBS1 = block_diag(*BSunitaries[0:2])\n",
    "UBS2 = block_diag([[1]], BSunitaries[2], [[1]])\n",
    "UBS3 = block_diag(*BSunitaries[3:5])\n",
    "UBS4 = block_diag([[1]], BSunitaries[5], [[1]])\n",
    "UBS5 = block_diag(*BSunitaries[6:8])\n",
    "U = multi_dot([UBS5, UBS4, UBS3, UBS2, UBS1, Uphase])\n",
    "print(np.round(U, 4))"
   ]
  },
  {
   "cell_type": "code",
   "execution_count": 11,
   "id": "e31dbe6d-7867-4282-a8cd-9e7ada914761",
   "metadata": {},
   "outputs": [
    {
     "name": "stdout",
     "output_type": "stream",
     "text": [
      "GaussianTransform([[ 0.6372 -0.7173  0.1376  0.0383 -0.0572 -0.2229 -0.0776  0.0112]\n",
      " [ 0.343   0.1781 -0.1118 -0.206  -0.1989  0.0694  0.8458  0.1897]\n",
      " [ 0.0646  0.1974 -0.2586  0.3623 -0.5164 -0.4502  0.0224 -0.5375]\n",
      " [-0.109   0.0198 -0.3207 -0.2984 -0.3883 -0.3966 -0.2775  0.6409]\n",
      " [ 0.0572  0.2229  0.0776 -0.0112  0.6372 -0.7173  0.1376  0.0383]\n",
      " [ 0.1989 -0.0694 -0.8458 -0.1897  0.343   0.1781 -0.1118 -0.206 ]\n",
      " [ 0.5164  0.4502 -0.0224  0.5375  0.0646  0.1974 -0.2586  0.3623]\n",
      " [ 0.3883  0.3966  0.2775 -0.6409 -0.109   0.0198 -0.3207 -0.2984]]) | (q[0], q[1], q[2], q[3])\n"
     ]
    }
   ],
   "source": [
    "prog_unitary = sf.Program(4)\n",
    "prog_unitary.circuit = boson_sampling.circuit[4:]\n",
    "prog_compiled = prog_unitary.compile(compiler=\"gaussian_unitary\")\n",
    "prog_compiled.print()"
   ]
  },
  {
   "cell_type": "code",
   "execution_count": 12,
   "id": "14c2f74e-20fb-4906-9b49-0afdc43581b6",
   "metadata": {},
   "outputs": [
    {
     "name": "stdout",
     "output_type": "stream",
     "text": [
      "[[ 0.6372+0.0572j -0.7173+0.2229j  0.1376+0.0776j  0.0383-0.0112j]\n",
      " [ 0.343 +0.1989j  0.1781-0.0694j -0.1118-0.8458j -0.206 -0.1897j]\n",
      " [ 0.0646+0.5164j  0.1974+0.4502j -0.2586-0.0224j  0.3623+0.5375j]\n",
      " [-0.109 +0.3883j  0.0198+0.3966j -0.3207+0.2775j -0.2984-0.6409j]]\n"
     ]
    }
   ],
   "source": [
    "S = prog_compiled.circuit[0].op.p[0]\n",
    "U = S[:4, :4] + 1j*S[4:, :4]\n",
    "print(U)"
   ]
  },
  {
   "cell_type": "code",
   "execution_count": 13,
   "id": "6342ecc4-6e13-4cda-9d50-af1eb4c068f5",
   "metadata": {},
   "outputs": [],
   "source": [
    "boson_sampling = sf.Program(4)\n",
    "\n",
    "with boson_sampling.context as q:\n",
    "    # prepare the input fock states\n",
    "    Fock(1) | q[0]\n",
    "    Fock(1) | q[1]\n",
    "    Vac     | q[2]\n",
    "    Fock(1) | q[3]\n",
    "\n",
    "    Interferometer(U) | q"
   ]
  },
  {
   "cell_type": "code",
   "execution_count": 14,
   "id": "362bcf89-0cc2-46d0-a989-48f9cead5c6c",
   "metadata": {},
   "outputs": [
    {
     "name": "stdout",
     "output_type": "stream",
     "text": [
      "Fock(1) | (q[0])\n",
      "Fock(1) | (q[1])\n",
      "Vac | (q[2])\n",
      "Fock(1) | (q[3])\n",
      "Rgate(0.3237) | (q[0])\n",
      "BSgate(0.7932, 0) | (q[0], q[1])\n",
      "Rgate(-2.344) | (q[2])\n",
      "BSgate(0.2473, 0) | (q[2], q[3])\n",
      "Rgate(2.724) | (q[1])\n",
      "BSgate(1.123, 0) | (q[1], q[2])\n",
      "Rgate(-3.129) | (q[0])\n",
      "BSgate(0.1817, 0) | (q[0], q[1])\n",
      "Rgate(2.858) | (q[0])\n",
      "Rgate(0.4223) | (q[1])\n",
      "Rgate(1.939) | (q[2])\n",
      "Rgate(4.34) | (q[3])\n",
      "BSgate(-0.6788, 0) | (q[2], q[3])\n",
      "Rgate(2.82) | (q[2])\n",
      "BSgate(-0.1073, 0) | (q[1], q[2])\n",
      "Rgate(-2.951) | (q[1])\n"
     ]
    }
   ],
   "source": [
    "boson_sampling.compile(compiler=\"fock\").print()\n"
   ]
  },
  {
   "cell_type": "code",
   "execution_count": 15,
   "id": "abc0b641-9fdf-4b47-b8a7-090ba44e162b",
   "metadata": {},
   "outputs": [
    {
     "name": "stdout",
     "output_type": "stream",
     "text": [
      "0.2280016292105849\n"
     ]
    }
   ],
   "source": [
    "print(probs[2,0,0,1])"
   ]
  },
  {
   "cell_type": "code",
   "execution_count": 16,
   "id": "ea0afa12-75c0-4f08-9a99-04969b88c03a",
   "metadata": {},
   "outputs": [],
   "source": [
    "from thewalrus import perm"
   ]
  },
  {
   "cell_type": "code",
   "execution_count": 17,
   "id": "6ebaae7c-a5c1-4a65-a6cb-c041e55ffd6e",
   "metadata": {},
   "outputs": [
    {
     "data": {
      "text/plain": [
       "array([[ 0.6372+0.0572j, -0.7173+0.2229j,  0.0383-0.0112j],\n",
       "       [ 0.343 +0.1989j,  0.1781-0.0694j, -0.206 -0.1897j],\n",
       "       [ 0.0646+0.5164j,  0.1974+0.4502j,  0.3623+0.5375j],\n",
       "       [-0.109 +0.3883j,  0.0198+0.3966j, -0.2984-0.6409j]])"
      ]
     },
     "execution_count": 17,
     "metadata": {},
     "output_type": "execute_result"
    }
   ],
   "source": [
    "U[:,[0,1,3]]"
   ]
  },
  {
   "cell_type": "code",
   "execution_count": 18,
   "id": "df8184e2-d038-4385-a95c-fab7be0d1c53",
   "metadata": {},
   "outputs": [
    {
     "data": {
      "text/plain": [
       "array([[ 0.6372+0.0572j, -0.7173+0.2229j,  0.0383-0.0112j],\n",
       "       [ 0.6372+0.0572j, -0.7173+0.2229j,  0.0383-0.0112j],\n",
       "       [-0.109 +0.3883j,  0.0198+0.3966j, -0.2984-0.6409j]])"
      ]
     },
     "execution_count": 18,
     "metadata": {},
     "output_type": "execute_result"
    }
   ],
   "source": [
    "U[:,[0,1,3]][[0,0,3]]"
   ]
  },
  {
   "cell_type": "code",
   "execution_count": 19,
   "id": "4e128a41-b2d0-4932-b2c7-71919aaf6a3d",
   "metadata": {},
   "outputs": [
    {
     "name": "stdout",
     "output_type": "stream",
     "text": [
      "0.2280016292105846\n"
     ]
    }
   ],
   "source": [
    "print(np.abs(perm(U[:, [0,1,3]][[0,0,3]]))**2 / 2)"
   ]
  },
  {
   "cell_type": "code",
   "execution_count": 20,
   "id": "8faa9745-d6d3-4457-a560-9b18faeda16f",
   "metadata": {},
   "outputs": [
    {
     "name": "stdout",
     "output_type": "stream",
     "text": [
      "1.3390752198964748e-13\n"
     ]
    }
   ],
   "source": [
    "BS = np.abs(perm(U[:, [0,1,3]][[0,0,3]]))**2 / 2\n",
    "SF = probs[2,0,0,1]\n",
    "\n",
    "print(100*np.abs(BS-SF)/BS)"
   ]
  },
  {
   "cell_type": "code",
   "execution_count": 21,
   "id": "360123f6-27d5-4362-87d6-66bed577f840",
   "metadata": {},
   "outputs": [
    {
     "name": "stdout",
     "output_type": "stream",
     "text": [
      "0.002202343953200861\n",
      "0.0022023439532008575\n"
     ]
    }
   ],
   "source": [
    "print(probs[3,0,0,0])\n",
    "print(np.abs(perm(U[:, [0,1,3]][[0,0,0]]))**2 / 6)"
   ]
  },
  {
   "cell_type": "code",
   "execution_count": 22,
   "id": "8ae1bb72-c0db-42b2-9822-e23ecc0281ec",
   "metadata": {},
   "outputs": [
    {
     "name": "stdout",
     "output_type": "stream",
     "text": [
      "0.02701656565980743\n",
      "0.027016565659807402\n"
     ]
    }
   ],
   "source": [
    "print(probs[1,1,0,1])\n",
    "print(np.abs(perm(U[:, [0,1,3]][[0,1,3]]))**2 / 1)"
   ]
  },
  {
   "cell_type": "code",
   "execution_count": null,
   "id": "672dffb1-e395-428f-89fc-60c7ce03735e",
   "metadata": {},
   "outputs": [],
   "source": []
  },
  {
   "cell_type": "code",
   "execution_count": null,
   "id": "2601b9fb-83c6-4d31-a05f-03995be99a54",
   "metadata": {},
   "outputs": [],
   "source": []
  }
 ],
 "metadata": {
  "kernelspec": {
   "display_name": "PennyLane",
   "language": "python",
   "name": "pennylane"
  },
  "language_info": {
   "codemirror_mode": {
    "name": "ipython",
    "version": 3
   },
   "file_extension": ".py",
   "mimetype": "text/x-python",
   "name": "python",
   "nbconvert_exporter": "python",
   "pygments_lexer": "ipython3",
   "version": "3.9.13"
  }
 },
 "nbformat": 4,
 "nbformat_minor": 5
}
